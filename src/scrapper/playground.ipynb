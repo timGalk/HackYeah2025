{
 "cells": [
  {
   "cell_type": "code",
   "execution_count": 30,
   "id": "28753fa4",
   "metadata": {},
   "outputs": [],
   "source": [
    "import pandas as pd\n",
    "pd.read_csv('stops.csv')[['stop_name', 'stop_lat', 'stop_lon']].groupby('stop_name').agg({'stop_lat': 'mean', 'stop_lon': 'mean'}).reset_index().to_csv('stops_deduped.csv', index=False)"
   ]
  },
  {
   "cell_type": "code",
   "execution_count": 1,
   "id": "b692706a",
   "metadata": {},
   "outputs": [],
   "source": [
    "import json\n",
    "import pandas as pd\n",
    "from difflib import get_close_matches\n",
    "from openai import OpenAI\n",
    "import os, json\n",
    "from dotenv import load_dotenv\n",
    "import json\n",
    "\n",
    "load_dotenv()\n",
    "client = OpenAI(api_key=os.getenv(\"OPENAI_API_KEY\"))\n",
    "\n",
    "with open(\"posts.json\", \"r\", encoding=\"utf-8\") as f:\n",
    "    posts = json.load(f)\n",
    "\n",
    "df = pd.DataFrame(posts[\"posts\"])\n",
    "\n",
    "\n",
    "\n",
    "stops = pd.read_csv(\"stops_deduped.csv\")\n",
    "\n",
    "def find_stop(query: str, stops_df: pd.DataFrame):\n",
    "    names = stops_df[\"stop_name\"].tolist()\n",
    "    match = get_close_matches(query, names, n=1, cutoff=0.4)\n",
    "    if match:\n",
    "        stop = stops_df[stops_df[\"stop_name\"] == match[0]].iloc[0]\n",
    "        return {\n",
    "            \"matched_name\": stop[\"stop_name\"],\n",
    "            \"lat\": stop[\"stop_lat\"],\n",
    "            \"lon\": stop[\"stop_lon\"]\n",
    "        }\n",
    "    else:\n",
    "        return None"
   ]
  },
  {
   "cell_type": "code",
   "execution_count": 8,
   "id": "c94d0caf",
   "metadata": {},
   "outputs": [],
   "source": [
    "def generate_prompt(text: str) -> str:\n",
    "    return f\"\"\"Analyze the transport alert below and return only valid JSON with:\n",
    "    - \"description\": under 5 words summarizing what happened in Polish,\n",
    "    - \"category\": \"incident\" (accident, crash, obstruction) or \"traffic\" (delay, congestion),\n",
    "    - \"loc\": most likely cracovian stop name (stop, street, or area).\n",
    "    If info missing, use null.\n",
    "    Text: {text}\"\"\""
   ]
  },
  {
   "cell_type": "code",
   "execution_count": null,
   "id": "96f202fd",
   "metadata": {},
   "outputs": [],
   "source": [
    "def get_incident_from_post(client, post: str):\n",
    "    text = post[\"text\"].lower()\n",
    "    prompt = generate_prompt(text)\n",
    "    \n",
    "    if \"#utrudnienia_pkk\" not in text:\n",
    "        return None\n",
    "        \n",
    "    response = client.chat.completions.create(\n",
    "        model=\"gpt-5-nano\",\n",
    "        messages=[{\"role\": \"user\", \"content\": prompt}]\n",
    "    )\n",
    "\n",
    "    result = response.choices[0].message.content\n",
    "    try:\n",
    "        parsed = json.loads(result)\n",
    "        loc = parsed.get(\"loc\", 'Dworzec tunel')\n",
    "        stop_found = find_stop(loc, stops) if loc is not None else None \n",
    "        category = parsed.get(\"category\", \"incident\").lower()\n",
    "        return {\n",
    "            \"post_id\": post[\"id\"],\n",
    "            \"description\": parsed.get(\"description\", \"\"),\n",
    "            \"category\": category if category in [\"incident\", \"traffic\"] else \"traffic\",\n",
    "            \"lat\": stop_found[\"lat\"] if stop_found else None,\n",
    "            \"lon\": stop_found[\"lon\"] if stop_found else None,\n",
    "        }\n",
    "    except json.JSONDecodeError as e:\n",
    "        return None\n",
    "    return None"
   ]
  },
  {
   "cell_type": "code",
   "execution_count": 12,
   "id": "f5b53515",
   "metadata": {},
   "outputs": [
    {
     "name": "stdout",
     "output_type": "stream",
     "text": [
      "\n",
      "📝 Processing post #0...\n",
      "#utrudnienia_pkk (20:40) potrącenie pieszego przy miśnieńskiej. brak dojazdu do pętli mistrzejowice. linia 14 kierowana do os. piastów.\n",
      "\n",
      "✅ Parsed JSON: {'description': 'Potrącenie pieszego', 'category': 'incident', 'loc': 'ul. Miśnieńska'}\n",
      "🔍 Result:\n",
      " {\n",
      "  \"description\": \"Potrącenie pieszego\",\n",
      "  \"category\": \"incident\",\n",
      "  \"loc\": \"ul. Miśnieńska\"\n",
      "}\n"
     ]
    }
   ],
   "source": [
    "results = []\n",
    "for post in posts['posts']:\n",
    "    text = post[\"text\"].lower()\n",
    "    print(f\"\\n📝 Processing post #{post['id']}...\\n{text}\\n\")\n",
    "\n",
    "    prompt = f\"\"\"\n",
    "    Analyze the transport alert below and return only valid JSON with:\n",
    "    - \"description\": under 5 words summarizing what happened in Polish,\n",
    "    - \"category\": \"incident\" (accident, crash, obstruction) or \"traffic\" (delay, congestion),\n",
    "    - \"loc\": most likely cracovian stop name (stop, street, or area).\n",
    "    If info missing, use null.\n",
    "    Text: {text}\n",
    "    \"\"\"\n",
    "    if \"#utrudnienia_pkk\" not in text:\n",
    "        continue\n",
    "        \n",
    "    response = client.chat.completions.create(\n",
    "        model=\"gpt-5-nano\",\n",
    "        messages=[{\"role\": \"user\", \"content\": prompt}]\n",
    "    )\n",
    "\n",
    "    result = response.choices[0].message.content\n",
    "    try:\n",
    "        parsed = json.loads(result)\n",
    "        print(\"✅ Parsed JSON:\", parsed)\n",
    "        loc = parsed.get(\"loc\", 'Dworzec tunel')\n",
    "        stop_found = find_stop(loc, stops) if loc is not None else None \n",
    "        category = parsed.get(\"category\", \"incident\").lower()\n",
    "        results.append({\n",
    "            \"post_id\": post[\"id\"],\n",
    "            \"description\": parsed.get(\"description\", \"\"),\n",
    "            \"category\": category if category in [\"incident\", \"traffic\"] else \"traffic\",\n",
    "            \"stop_name\": stop_found[\"matched_name\"] if stop_found else None,\n",
    "            \"latitude\": stop_found[\"lat\"] if stop_found else None,\n",
    "            \"longitude\": stop_found[\"lon\"] if stop_found else None,\n",
    "        })\n",
    "    except json.JSONDecodeError as e:\n",
    "        print(\"❌ Failed to parse JSON:\", e)\n",
    "    print(\"🔍 Result:\\n\", result)\n",
    "    break"
   ]
  },
  {
   "cell_type": "code",
   "execution_count": 7,
   "id": "0c98f90d",
   "metadata": {},
   "outputs": [],
   "source": [
    "# save json of results\n",
    "with open(\"parsed_posts.json\", \"w\", encoding=\"utf-8\") as f:\n",
    "    json.dump({\"results\": results}, f, ensure_ascii=False, indent=2)"
   ]
  }
 ],
 "metadata": {
  "kernelspec": {
   "display_name": "HackYeah2025 (3.11.13)",
   "language": "python",
   "name": "python3"
  },
  "language_info": {
   "codemirror_mode": {
    "name": "ipython",
    "version": 3
   },
   "file_extension": ".py",
   "mimetype": "text/x-python",
   "name": "python",
   "nbconvert_exporter": "python",
   "pygments_lexer": "ipython3",
   "version": "3.11.13"
  }
 },
 "nbformat": 4,
 "nbformat_minor": 5
}
